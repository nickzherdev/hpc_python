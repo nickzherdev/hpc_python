{
  "nbformat": 4,
  "nbformat_minor": 0,
  "metadata": {
    "colab": {
      "name": "t7_Integral_Nikolay_Zherdev.ipynb",
      "provenance": [],
      "collapsed_sections": [
        "5W19SSmzUI1s"
      ]
    },
    "kernelspec": {
      "name": "python3",
      "display_name": "Python 3"
    }
  },
  "cells": [
    {
      "cell_type": "markdown",
      "metadata": {
        "id": "PM2RXpO929wU",
        "colab_type": "text"
      },
      "source": [
        "#<small> <i>Task 7. </small> </i> Study an integral\n",
        "# * <big> $ S = \\displaystyle \\int_a^b  \\displaystyle \\frac{1}{\\sqrt{1 + x^2}} \\, dx$ </big>, where $a = 5$ and $b = 7$\n",
        "1. Compute analytically the value of $S$\n",
        "2. Provide a parallel numerical computation of the integral $S$ using, for example, the trapezoidal approximation $\\displaystyle \\int_{a}^{b} f(x) \\approx S_D = \\displaystyle \\sum_{k = 1}^{N-1} \\displaystyle \\frac{f\\left(a + k \\,\\tau\\right)+ f\\left(a + \\left(k - 1\\right) \\tau\\right) }{2}\\,\\,\\tau$, where $ a + (N - 1)\\tau = b$\n",
        "  * The number of MPI processes $n_p$ does not depend on the number of discretization points $N$, i.e., $n_p \\ne N$ in general. \n",
        "  * Use <strong>Reduce </strong> function of <i>mpi4py </i> to sum across processes.\n",
        "3. Plot the speedup $s(n_p)$ for a parallel version of program for different number of processes $n_p$. The speedup is determined by $s(n_p) = \\displaystyle \\frac{t_p(n_p)}{t_s}$, where $t_s$ and $t_p(n_p)$ are computational times of sequential and parallel versions of program.\n",
        "4. Plot the error value $e(\\tau) = |S_D(\\tau) - S| $ versus discretization step graph $\\tau$ by varying number of discretization steps $N$.\n",
        "\n",
        "<b> Bonus task. </b> \n",
        "* Implement the Monte Carlo method and compare with the trapezoidal method in terms of errors. \n",
        "* When the Monte Carlo method works better than the trapezoidal one?"
      ]
    },
    {
      "cell_type": "code",
      "metadata": {
        "id": "zaIDEgUsXC-S",
        "colab_type": "code",
        "colab": {}
      },
      "source": [
        ""
      ],
      "execution_count": 0,
      "outputs": []
    },
    {
      "cell_type": "markdown",
      "metadata": {
        "id": "FG1QaC2Ot2Tj",
        "colab_type": "text"
      },
      "source": [
        "### T7.1 \tAnalytical computation of the integral is given."
      ]
    },
    {
      "cell_type": "markdown",
      "metadata": {
        "id": "jvPXxtkw0Gl9",
        "colab_type": "text"
      },
      "source": [
        "# $ \\displaystyle \\ln \\displaystyle |{\\sqrt{1 + x^2} + x}| + C $\n",
        "\n",
        "apply Neqton-Leibniz formula F(b) - F(a)\n",
        "\n",
        "ln(sqrt(50)+7) - ln(sqrt(26)+5) = 0.331"
      ]
    },
    {
      "cell_type": "markdown",
      "metadata": {
        "id": "PtB3U0TyuZBb",
        "colab_type": "text"
      },
      "source": [
        "### T7.2 \tTrapezoidal approximation is used."
      ]
    },
    {
      "cell_type": "markdown",
      "metadata": {
        "id": "ZyAU2DTD8Ieo",
        "colab_type": "text"
      },
      "source": [
        "![alt text](https://upload.wikimedia.org/wikipedia/commons/thumb/d/d1/Integration_num_trapezes_notation.svg/1920px-Integration_num_trapezes_notation.svg.png)\n"
      ]
    },
    {
      "cell_type": "markdown",
      "metadata": {
        "id": "5W19SSmzUI1s",
        "colab_type": "text"
      },
      "source": [
        "#### Check trapezoidal functions and calculate time of executing in serial"
      ]
    },
    {
      "cell_type": "code",
      "metadata": {
        "id": "5pevWnTm4XKJ",
        "colab_type": "code",
        "outputId": "207327be-bad1-4f72-f1fd-4bebe1db1bf1",
        "colab": {
          "base_uri": "https://localhost:8080/",
          "height": 70
        }
      },
      "source": [
        "import numpy as np\n",
        "\n",
        "# optimized\n",
        "def trapezoidal(f, a, b, n):\n",
        "    h = float(b - a) / n\n",
        "    s = 0.0\n",
        "    s += f(a)/2.0\n",
        "    for i in range(1, n):\n",
        "        s += f(a + i*h)\n",
        "    s += f(b)/2.0\n",
        "    return s  * h\n",
        "\n",
        "%timeit trapezoidal(lambda x: (1 / (np.sqrt(1+x**2))), 5, 7, 100)\n",
        "print(trapezoidal(lambda x: (1 / (np.sqrt(1+x**2))), 5, 7, 100))"
      ],
      "execution_count": 1,
      "outputs": [
        {
          "output_type": "stream",
          "text": [
            "The slowest run took 9.92 times longer than the fastest. This could mean that an intermediate result is being cached.\n",
            "10000 loops, best of 3: 164 µs per loop\n",
            "0.33168301697301306\n"
          ],
          "name": "stdout"
        }
      ]
    },
    {
      "cell_type": "code",
      "metadata": {
        "id": "GFYexuihqIiA",
        "colab_type": "code",
        "colab": {
          "base_uri": "https://localhost:8080/",
          "height": 70
        },
        "outputId": "69a01896-79f5-4bfd-f882-c5c58fb3336e"
      },
      "source": [
        "# non-optimized\n",
        "def trapezoidal2(f, a, b, n):\n",
        "    h = float(b - a) / n\n",
        "    s = 0.0\n",
        "    for i in range(1, n):\n",
        "        s += h * (f(a + i*h) + f(a + (i-1)*h))/2.0\n",
        "    return s\n",
        "\n",
        "print(trapezoidal2(lambda x: (1 / (np.sqrt(1+x**2))), 5, 7, 100))\n",
        "t_seq = %timeit -o trapezoidal2(lambda x: (1 / (np.sqrt(1+x**2))), 5, 7, 100)\n",
        "t_seq.best"
      ],
      "execution_count": 2,
      "outputs": [
        {
          "output_type": "stream",
          "text": [
            "0.32885061904581886\n",
            "1000 loops, best of 3: 358 µs per loop\n"
          ],
          "name": "stdout"
        },
        {
          "output_type": "execute_result",
          "data": {
            "text/plain": [
              "0.0003580805419999962"
            ]
          },
          "metadata": {
            "tags": []
          },
          "execution_count": 2
        }
      ]
    },
    {
      "cell_type": "code",
      "metadata": {
        "id": "prgoB0WjnCrO",
        "colab_type": "code",
        "colab": {}
      },
      "source": [
        ""
      ],
      "execution_count": 0,
      "outputs": []
    },
    {
      "cell_type": "markdown",
      "metadata": {
        "id": "FzkKTvoeUOVE",
        "colab_type": "text"
      },
      "source": [
        "#### Calculate integral using sum-reduce"
      ]
    },
    {
      "cell_type": "code",
      "metadata": {
        "id": "R-mj6CUhRHx7",
        "colab_type": "code",
        "colab": {
          "base_uri": "https://localhost:8080/",
          "height": 35
        },
        "outputId": "ee7f2885-6f1c-4964-a7be-57450077e542"
      },
      "source": [
        "%%file trapezoidal.py\n",
        "\n",
        "from mpi4py import MPI\n",
        "import numpy as np\n",
        "\n",
        "# non-optimized\n",
        "def trapezoidal2(f, a, b, n):\n",
        "    h = float(b - a) / n\n",
        "    s = 0.0\n",
        "    for i in range(1, n):\n",
        "        s += h * (f(a + i*h) + f(a + (i-1)*h))/2.0\n",
        "    return s\n",
        "\n",
        "comm = MPI.COMM_WORLD\n",
        "rank = comm.Get_rank()\n",
        "size = comm.Get_size()\n",
        "\n",
        "t1 = MPI.Wtime()\n",
        "\n",
        "a = 5.0\n",
        "b = 7.0\n",
        "n_chanks = 1000000\n",
        "\n",
        "milestones = np.linspace(a, b, n_chanks+1)\n",
        "# if rank == 0:\n",
        "#     print(\"milestones are: \", milestones)\n",
        "#     print(\" \")\n",
        "\n",
        "# if n_chanks % size == 0:                       # check that work is allocated equally\n",
        "\n",
        "my_n_chanks = int(n_chanks / size)         # how many chanks each worker gets\n",
        "my_start_index = rank * my_n_chanks\n",
        "my_end_index = (rank+1) * my_n_chanks\n",
        "\n",
        "my_start = milestones[my_start_index]\n",
        "my_end = milestones[my_end_index]\n",
        "\n",
        "if rank == 0:\n",
        "    recvbuf = np.zeros(1, dtype=\"float64\")\n",
        "else:\n",
        "    recvbuf = None\n",
        "\n",
        "sendbuf = trapezoidal2(lambda x: (1 / (np.sqrt(1+x**2))), \n",
        "                        my_start, \n",
        "                        my_end, \n",
        "                        my_n_chanks)\n",
        "\n",
        "comm.Reduce(sendbuf, recvbuf, op = MPI.SUM, root = 0)\n",
        "\n",
        "TIME = comm.gather((MPI.Wtime() - t1), root=0)\n",
        "if not rank:\n",
        "    print(np.sum(TIME)/size)\n",
        "\n",
        "if rank == 0:\n",
        "    print(\"recvbuf = %r\" % recvbuf[0])"
      ],
      "execution_count": 29,
      "outputs": [
        {
          "output_type": "stream",
          "text": [
            "Overwriting trapezoidal.py\n"
          ],
          "name": "stdout"
        }
      ]
    },
    {
      "cell_type": "code",
      "metadata": {
        "id": "KfNAW93MGoHX",
        "colab_type": "code",
        "colab": {
          "base_uri": "https://localhost:8080/",
          "height": 35
        },
        "outputId": "29081959-6adb-4402-ff2f-7699797c4aa5"
      },
      "source": [
        "t = !mpiexec --allow-run-as-root -n 1 python -m mpi4py trapezoidal.py\n",
        "float(t[0])"
      ],
      "execution_count": 25,
      "outputs": [
        {
          "output_type": "execute_result",
          "data": {
            "text/plain": [
              "0.007221739999295096"
            ]
          },
          "metadata": {
            "tags": []
          },
          "execution_count": 25
        }
      ]
    },
    {
      "cell_type": "code",
      "metadata": {
        "id": "7Nt-Z763HTIx",
        "colab_type": "code",
        "colab": {
          "base_uri": "https://localhost:8080/",
          "height": 35
        },
        "outputId": "95281dca-3a86-4361-a96b-349f7cf989f2"
      },
      "source": [
        "t = !mpiexec --allow-run-as-root -n 2 python -m mpi4py trapezoidal.py\n",
        "float(t[0])"
      ],
      "execution_count": 26,
      "outputs": [
        {
          "output_type": "execute_result",
          "data": {
            "text/plain": [
              "0.034405025499836484"
            ]
          },
          "metadata": {
            "tags": []
          },
          "execution_count": 26
        }
      ]
    },
    {
      "cell_type": "code",
      "metadata": {
        "id": "t8YFIg8uHYNS",
        "colab_type": "code",
        "colab": {
          "base_uri": "https://localhost:8080/",
          "height": 52
        },
        "outputId": "9abb0460-44ca-4b11-ad11-21d2976d6aab"
      },
      "source": [
        "!mpiexec --allow-run-as-root -n 1 python -m mpi4py trapezoidal.py"
      ],
      "execution_count": 31,
      "outputs": [
        {
          "output_type": "stream",
          "text": [
            "6.032167115999982\n",
            "recvbuf = 0.33168213694314613\n"
          ],
          "name": "stdout"
        }
      ]
    },
    {
      "cell_type": "markdown",
      "metadata": {
        "id": "mgYD5rHQudW3",
        "colab_type": "text"
      },
      "source": [
        "### T7.3 \tWe can arbitrarily choose the number of MPI processes that we want to launch and it does not depend on the number of discretization points."
      ]
    },
    {
      "cell_type": "markdown",
      "metadata": {
        "id": "Ch94MNm4unCF",
        "colab_type": "text"
      },
      "source": [
        "### T7.4 \tSpeedup versus number of processors graph is plotted."
      ]
    },
    {
      "cell_type": "code",
      "metadata": {
        "id": "NoYXGb0gEySt",
        "colab_type": "code",
        "colab": {
          "base_uri": "https://localhost:8080/",
          "height": 584
        },
        "outputId": "e2cff264-5708-491b-a561-44b0469fa531"
      },
      "source": [
        "t_seq = %timeit -o trapezoidal2(lambda x: (1 / (np.sqrt(1+x**2))), 5.0, 7.0, 1000000)\n",
        "t_seq.best\n",
        "print(\"seqential best time: \", t_seq.best)\n",
        "\n",
        "time = np.zeros(2, dtype=\"float64\")\n",
        "speedup = np.zeros(2, dtype=\"float64\")\n",
        "\n",
        "processors = [1, 2]\n",
        "\n",
        "for team_size in processors:\n",
        "    t = !mpiexec --allow-run-as-root -n {team_size} python -m mpi4py trapezoidal.py\n",
        "    print(\"parallalized: \", t[0])\n",
        "    time[team_size-1] = float(t[0])\n",
        "    speedup[team_size-1] = float(t[0]) / t_seq.best\n",
        "\n",
        "plt.figure(figsize=(9,8))\n",
        "plt.plot(processors, speedup)\n",
        "plt.ylabel('Speedup')\n",
        "plt.xticks([1,2])\n",
        "plt.xlabel('Num of Proccessers')\n",
        "plt.title('Calculating integral')\n",
        "# plt.legend()\n",
        "plt.show()"
      ],
      "execution_count": 33,
      "outputs": [
        {
          "output_type": "stream",
          "text": [
            "1 loop, best of 3: 3.65 s per loop\n",
            "seqential best time:  3.649052685999777\n",
            "parallalized:  6.0071367119999195\n",
            "parallalized:  6.186820013500437\n"
          ],
          "name": "stdout"
        },
        {
          "output_type": "display_data",
          "data": {
            "image/png": "[encoded data removed]",
            "text/plain": [
              "<Figure size 648x576 with 1 Axes>"
            ]
          },
          "metadata": {
            "tags": []
          }
        }
      ]
    },
    {
      "cell_type": "markdown",
      "metadata": {
        "id": "0ir8Ssh_uspt",
        "colab_type": "text"
      },
      "source": [
        "### T7.5 \tError value versus discretization step graph is plotted."
      ]
    },
    {
      "cell_type": "code",
      "metadata": {
        "id": "ghaC4VSAuu-p",
        "colab_type": "code",
        "colab": {
          "base_uri": "https://localhost:8080/",
          "height": 513
        },
        "outputId": "02ce132f-250c-484c-f8a1-8822fb7be0fb"
      },
      "source": [
        "import numpy as np\n",
        "\n",
        "# optimized\n",
        "def trapezoidal(f, a, b, n):\n",
        "    h = float(b - a) / n\n",
        "    s = 0.0\n",
        "    s += f(a)/2.0\n",
        "    for i in range(1, n):\n",
        "        s += f(a + i*h)\n",
        "    s += f(b)/2.0\n",
        "    return s  * h\n",
        "\n",
        "errors = []\n",
        "analytical = 0.331\n",
        "discretizations = range(1, 101)\n",
        "\n",
        "for level in discretizations:\n",
        "    numerical = trapezoidal(lambda x: (1 / (np.sqrt(1+x**2))), 5, 7, level)\n",
        "    errors.append(abs(analytical - numerical))\n",
        "\n",
        "plt.figure(figsize=(9,8))\n",
        "plt.plot(discretizations, errors) #, label='parallization')\n",
        "# plt.plot(range(1,7), TIME1, label='no parallization')\n",
        "plt.ylabel('Error')\n",
        "plt.xlabel('Level of discritization')\n",
        "plt.title('Error value versus discretization')\n",
        "# plt.legend()\n",
        "plt.show()"
      ],
      "execution_count": 8,
      "outputs": [
        {
          "output_type": "display_data",
          "data": {
            "image/png": "[encoded data removed]",
            "text/plain": [
              "<Figure size 648x576 with 1 Axes>"
            ]
          },
          "metadata": {
            "tags": []
          }
        }
      ]
    }
  ]
}