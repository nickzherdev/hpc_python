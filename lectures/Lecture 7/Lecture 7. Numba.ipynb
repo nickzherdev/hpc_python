{
 "cells": [
  {
   "cell_type": "markdown",
   "metadata": {
    "slideshow": {
     "slide_type": "slide"
    }
   },
   "source": [
    "High Performance Python\n",
    "=======\n",
    "\n",
    "Lecture 7. Numba\n",
    "----------\n",
    "\n",
    "Heavily based on (forked): \n",
    "\n",
    "Scipy2017 tutorial by Gil Forsyth:\n",
    "\n",
    "https://github.com/gforsyth/numba_tutorial_scipy2017\n",
    "\n",
    "https://www.youtube.com/watch?v=1AwG0T4gaO0&t=1349s\n",
    "\n",
    "GTC2018 tutorial by Stan Seibert:\n",
    "\n",
    "https://github.com/ContinuumIO/gtc2018-numba\n"
   ]
  },
  {
   "cell_type": "markdown",
   "metadata": {
    "slideshow": {
     "slide_type": "slide"
    }
   },
   "source": [
    "High Performance Python\n",
    "----------------------\n",
    "\n",
    "* multiprocessing\n",
    "* mpi4py\n",
    "* pycuda\n",
    "* cupy\n",
    "* pyopencl\n",
    "* **numba**"
   ]
  },
  {
   "cell_type": "markdown",
   "metadata": {
    "slideshow": {
     "slide_type": "slide"
    }
   },
   "source": [
    "Numba is:\n",
    "\n",
    "Just-In-Time (JIT) compiler:\n",
    "* generates optimized machine code using LLVM\n",
    "* integrates well with Scientific Python stack\n",
    "* **function compiler**: Numba compiles Python functions (not entire applications and not parts of functions). Numba is a Python module.\n",
    "* **type-specializing**: Numba speeds up your function by generating a specialized implementation for the specific data types you are using. \n",
    "* **just-in-time**: Numba translates functions when they are first called so that the compiler knows the argument types. Works in Jupyter notebook.\n",
    "* **numerically-focused**: „mostly“ int, float, complex. Works good with numpy arrays.\n"
   ]
  },
  {
   "cell_type": "markdown",
   "metadata": {
    "slideshow": {
     "slide_type": "slide"
    }
   },
   "source": [
    "The first step is always to find the bottlenecks in your code, via _profiling_: analyzing your code by measuring the execution time of its parts.\n",
    "\n",
    "\n",
    "Tools:\n",
    "------\n",
    "\n",
    "2. `cProfile`\n",
    "4. `snakeviz`\n",
    "1. [`line_profiler`](https://github.com/rkern/line_profiler)\n",
    "3. `timeit`\n",
    "\n",
    "\n",
    "\n",
    "```console\n",
    "pip install line_profiler\n",
    "```"
   ]
  },
  {
   "cell_type": "code",
   "execution_count": null,
   "metadata": {},
   "outputs": [],
   "source": [
    "import numpy\n",
    "from time import sleep\n",
    "\n",
    "def sleepy(time2sleep):\n",
    "    sleep(time2sleep)\n",
    "    \n",
    "def supersleepy(time2sleep):\n",
    "    sleep(time2sleep)\n",
    "    \n",
    "def randmatmul(n=1000):\n",
    "    a = numpy.random.random((n,n))\n",
    "    b = a @ a\n",
    "    return b\n",
    "    \n",
    "def useless(a):\n",
    "    if not isinstance(a, int):\n",
    "        return\n",
    "    \n",
    "    randmatmul(a)\n",
    "    \n",
    "    ans = 0\n",
    "    for i in range(a):\n",
    "        ans += i\n",
    "        \n",
    "    sleepy(1.0)\n",
    "    supersleepy(2.0)\n",
    "        \n",
    "    return ans"
   ]
  },
  {
   "cell_type": "markdown",
   "metadata": {},
   "source": [
    "## using `cProfile`\n",
    "\n",
    "[`cProfile`](https://docs.python.org/3.4/library/profile.html#module-cProfile) is the built-in profiler in Python (available since Python 2.5).  It provides a function-by-function report of execution time. First import the module, then usage is simply a call to `cProfile.run()` with your code as argument. It will print out a list of all the functions that were called, with the number of calls and the time spent in each.\n"
   ]
  },
  {
   "cell_type": "code",
   "execution_count": null,
   "metadata": {},
   "outputs": [],
   "source": [
    "import cProfile\n",
    "\n",
    "cProfile.run('useless(3000)')"
   ]
  },
  {
   "cell_type": "markdown",
   "metadata": {},
   "source": [
    "## using `snakeviz`"
   ]
  },
  {
   "cell_type": "code",
   "execution_count": null,
   "metadata": {},
   "outputs": [],
   "source": [
    "%load_ext snakeviz"
   ]
  },
  {
   "cell_type": "code",
   "execution_count": null,
   "metadata": {},
   "outputs": [],
   "source": [
    "%snakeviz useless(3000)"
   ]
  },
  {
   "cell_type": "markdown",
   "metadata": {},
   "source": [
    "## using `line_profiler`\n",
    "\n",
    "`line_profiler` offers more granular information than `cProfile`: it will give timing information about each line of code in a profiled function.\n",
    "\n",
    "### For a pop-up window with results in notebook:\n",
    "\n",
    "IPython has an `%lprun` magic to profile specific functions within an executed statement. Usage:\n",
    "`%lprun -f func_to_profile <statement>` (get more help by running `%lprun?` in IPython)."
   ]
  },
  {
   "cell_type": "code",
   "execution_count": null,
   "metadata": {},
   "outputs": [],
   "source": [
    "%load_ext line_profiler\n",
    "%lprun -f sleepy -f supersleepy useless(1000)"
   ]
  },
  {
   "cell_type": "markdown",
   "metadata": {},
   "source": [
    "### Write results to a text file"
   ]
  },
  {
   "cell_type": "code",
   "execution_count": null,
   "metadata": {},
   "outputs": [],
   "source": [
    "%lprun -T timings.txt -f sleepy useless(1000)"
   ]
  },
  {
   "cell_type": "markdown",
   "metadata": {},
   "source": [
    "## Profiling on the command line\n",
    "\n",
    "Open file, add `@profile` decorator to any function you want to profile, then run\n",
    "\n",
    "```console\n",
    "kernprof -l script_to_profile.py\n",
    "```\n",
    "\n",
    "which will generate `script_to_profile.py.lprof` (pickled result).  To view the results, run\n",
    "\n",
    "```console\n",
    "python -m line_profiler script_to_profile.py.lprof\n",
    "```"
   ]
  },
  {
   "cell_type": "code",
   "execution_count": null,
   "metadata": {},
   "outputs": [],
   "source": [
    "from IPython.display import IFrame\n",
    "IFrame('http://localhost:8888/terminals/1', width=800, height=700)"
   ]
  },
  {
   "cell_type": "markdown",
   "metadata": {},
   "source": [
    "## `timeit`\n",
    "\n",
    "```python\n",
    "python -m timeit \"print(42)\"\n",
    "```\n"
   ]
  },
  {
   "cell_type": "code",
   "execution_count": null,
   "metadata": {},
   "outputs": [],
   "source": [
    "# line magic\n",
    "%timeit x=10"
   ]
  },
  {
   "cell_type": "code",
   "execution_count": null,
   "metadata": {},
   "outputs": [],
   "source": [
    "%%timeit \n",
    "# cell magic\n",
    "\n",
    "x=10\n",
    "a='hello'\n",
    "d=[1,2,3]"
   ]
  },
  {
   "cell_type": "markdown",
   "metadata": {},
   "source": [
    "JIT\n",
    "===\n",
    "\n",
    "### Array sum\n",
    "\n",
    "The function below is a naive `sum` function that sums all the elements of a given array."
   ]
  },
  {
   "cell_type": "code",
   "execution_count": null,
   "metadata": {},
   "outputs": [],
   "source": [
    "def sum_array(inp):\n",
    "    J, I = inp.shape\n",
    "    \n",
    "    #this is a bad idea\n",
    "    mysum = 0\n",
    "    for j in range(J):\n",
    "        for i in range(I):\n",
    "            mysum += inp[j, i]\n",
    "            \n",
    "    return mysum"
   ]
  },
  {
   "cell_type": "code",
   "execution_count": null,
   "metadata": {},
   "outputs": [],
   "source": [
    "import numpy\n",
    "arr = numpy.random.random((300, 300))\n",
    "\n",
    "sum_array(arr)\n",
    "\n",
    "plain = %timeit -o sum_array(arr)"
   ]
  },
  {
   "cell_type": "code",
   "execution_count": null,
   "metadata": {},
   "outputs": [],
   "source": [
    "from numba import jit\n",
    "\n",
    "sum_array_numba = jit()(sum_array)\n",
    "\n",
    "sum_array_numba(arr)\n",
    "\n",
    "jitted = %timeit -o sum_array_numba(arr)\n",
    "\n",
    "plain.best / jitted.best\n"
   ]
  },
  {
   "cell_type": "markdown",
   "metadata": {},
   "source": [
    "## More commonly as a decorator"
   ]
  },
  {
   "cell_type": "code",
   "execution_count": null,
   "metadata": {},
   "outputs": [],
   "source": [
    "@jit\n",
    "def sum_array(inp):\n",
    "    I, J = inp.shape\n",
    "    \n",
    "    mysum = 0\n",
    "    for i in range(I):\n",
    "        for j in range(J):\n",
    "            mysum += inp[i, j]\n",
    "            \n",
    "    return mysum"
   ]
  },
  {
   "cell_type": "code",
   "execution_count": null,
   "metadata": {},
   "outputs": [],
   "source": [
    "%timeit arr.sum()"
   ]
  },
  {
   "cell_type": "markdown",
   "metadata": {},
   "source": [
    "Exercise 1. JIT the Mandelbrot fractal\n",
    "--------------------------------------------\n",
    "\n",
    "Separate exercise notebook or use your own Mandelbrot code \n",
    "\n",
    "1. Profile the code, find the bottlenecks\n",
    "2. Use Numba to speed up the code\n",
    "3. Compare the timing"
   ]
  },
  {
   "cell_type": "code",
   "execution_count": null,
   "metadata": {},
   "outputs": [],
   "source": [
    "@jit\n",
    "def add(a, b):\n",
    "    return a + b"
   ]
  },
  {
   "cell_type": "code",
   "execution_count": null,
   "metadata": {},
   "outputs": [],
   "source": [
    "add(1, 1)"
   ]
  },
  {
   "cell_type": "markdown",
   "metadata": {},
   "source": [
    "Numba examines Python bytecode and then translates this into an 'intermediate representation'.  To view this IR, run (compile) `add` and you can access the `inspect_types` method."
   ]
  },
  {
   "cell_type": "code",
   "execution_count": null,
   "metadata": {},
   "outputs": [],
   "source": [
    "add.inspect_types()"
   ]
  },
  {
   "cell_type": "markdown",
   "metadata": {},
   "source": [
    "Ok.  Numba is has correctly inferred the type of the arguments, defining things as `int64` and running smoothly.  \n",
    "\n",
    "(What happens if you do `add(1., 1.)` and then `inspect_types`?)"
   ]
  },
  {
   "cell_type": "code",
   "execution_count": null,
   "metadata": {},
   "outputs": [],
   "source": [
    "add(1.,1.)"
   ]
  },
  {
   "cell_type": "code",
   "execution_count": null,
   "metadata": {},
   "outputs": [],
   "source": [
    "add.inspect_types()"
   ]
  },
  {
   "cell_type": "markdown",
   "metadata": {},
   "source": [
    "### What about the actual LLVM code?\n",
    "\n",
    "You can see the actual LLVM code generated by Numba using the `inspect_llvm()` method.  Since it's a `dict`, doing the following will be slightly more visually friendly."
   ]
  },
  {
   "cell_type": "code",
   "execution_count": null,
   "metadata": {},
   "outputs": [],
   "source": [
    "for k, v in add.inspect_llvm().items():\n",
    "    print(k, v)"
   ]
  },
  {
   "cell_type": "markdown",
   "metadata": {},
   "source": [
    "## But there's a caveat\n",
    "Now, watch what happens when we try to do something that is natural in Python, but not particularly mathematically sound:"
   ]
  },
  {
   "cell_type": "code",
   "execution_count": null,
   "metadata": {},
   "outputs": [],
   "source": [
    "from numba import njit"
   ]
  },
  {
   "cell_type": "code",
   "execution_count": null,
   "metadata": {},
   "outputs": [],
   "source": [
    "def add_strings(a, b):\n",
    "    return a + b"
   ]
  },
  {
   "cell_type": "code",
   "execution_count": null,
   "metadata": {},
   "outputs": [],
   "source": [
    "add_strings_jit = njit()(add_strings)"
   ]
  },
  {
   "cell_type": "code",
   "execution_count": null,
   "metadata": {},
   "outputs": [],
   "source": [
    "add_strings_jit('a', 'b')"
   ]
  },
  {
   "cell_type": "code",
   "execution_count": null,
   "metadata": {},
   "outputs": [],
   "source": [
    "add_strings_jit.inspect_types()"
   ]
  },
  {
   "cell_type": "markdown",
   "metadata": {},
   "source": [
    "### Compiler options\n",
    "\n",
    "```python\n",
    "cache=True\n",
    "```\n",
    "\n",
    "if you don't want to always want to get dinged by the compilation time for every run. This will actually save the compiled function into something like a `pyc` file in your `__pycache__` directory, so even between sessions you should have nice fast performance."
   ]
  },
  {
   "cell_type": "markdown",
   "metadata": {},
   "source": [
    "## N-Body problems\n",
    "\n",
    "Many physical problems require the evaluation of all pairwise interactions of a large number of particles, so-called N-body problems. These problems arise in molecular dynamics, astrodynamics and electromagnetics among others. \n",
    "\n",
    "Their pairwise interactions can be expressed as:\n",
    "\n",
    "\\begin{equation}\n",
    "f_i = \\sum_{j=1}^n{P \\left(\\boldsymbol{x}_i, \\boldsymbol{x}_j \\right)w_j} \\ \\ \\ \\text{for } i=1,2,...,n \n",
    "\\end{equation}\n",
    "\n",
    "*  where subscripts $i$,  $j$ respectively denote *target* and *source*\n",
    "*  $f_i$ can be a *potential* (or *force*) at target point $i$\n",
    "*  $w_j$ is the *source weight* \n",
    "*  $\\boldsymbol{x}_i, \\boldsymbol{x}_j$ are the *spatial positions* of particles \n",
    "*  $P \\left(\\boldsymbol{x}_i, \\boldsymbol{x}_j \\right)$ is the *interaction kernel*. \n",
    "\n",
    "In order to evalute the potential $f_i$ at a target point $i$, we have to loop over each source particle $j$. Since there are $n$ target points $i$, this 'brute-force' approach costs $\\mathcal{O} \\left(n^2 \\right)$ operations. \n",
    "\n",
    "One possible approach in this kind of problem is to define a few classes, say `Point` and `Particle` and then loop over the objects and perform the necessary point-to-point calculations."
   ]
  },
  {
   "cell_type": "code",
   "execution_count": null,
   "metadata": {},
   "outputs": [],
   "source": [
    "class Point():\n",
    "    \"\"\"    \n",
    "    Arguments:\n",
    "        domain: the domain of random generated coordinates x,y,z, \n",
    "                default=1.0\n",
    "    \n",
    "    Attributes:\n",
    "        x, y, z: coordinates of the point\n",
    "    \"\"\"\n",
    "    def __init__(self, domain=1.0):\n",
    "        self.x = domain * numpy.random.random()\n",
    "        self.y = domain * numpy.random.random()\n",
    "        self.z = domain * numpy.random.random()\n",
    "            \n",
    "    def distance(self, other):\n",
    "        return ((self.x - other.x)**2 + \n",
    "                (self.y - other.y)**2 + \n",
    "                (self.z - other.z)**2)**.5"
   ]
  },
  {
   "cell_type": "code",
   "execution_count": null,
   "metadata": {},
   "outputs": [],
   "source": [
    "class Particle(Point):\n",
    "    \"\"\"    \n",
    "    Attributes:\n",
    "        m: mass of the particle\n",
    "        phi: the potential of the particle\n",
    "    \"\"\"\n",
    "    \n",
    "    def __init__(self, domain=1.0, m=1.0):\n",
    "        Point.__init__(self, domain)\n",
    "        self.m = m\n",
    "        self.phi = 0."
   ]
  },
  {
   "cell_type": "markdown",
   "metadata": {},
   "source": [
    "Now we create a list of `n` random particles, define a function to calculate their interaction via direct summation and run!"
   ]
  },
  {
   "cell_type": "code",
   "execution_count": null,
   "metadata": {},
   "outputs": [],
   "source": [
    "n = 1000\n",
    "particles = [Particle(m = 1 / n) for i in range(n)]"
   ]
  },
  {
   "cell_type": "code",
   "execution_count": null,
   "metadata": {},
   "outputs": [],
   "source": [
    "def direct_sum(particles):\n",
    "    \"\"\"\n",
    "    Calculate the potential at each particle\n",
    "    using direct summation method.\n",
    "\n",
    "    Arguments:\n",
    "        particles: the list of particles\n",
    "\n",
    "    \"\"\"\n",
    "    for i, target in enumerate(particles):\n",
    "        for source in (particles[:i] + particles[i+1:]):\n",
    "            r = target.distance(source)\n",
    "            target.phi += source.m / r"
   ]
  },
  {
   "cell_type": "code",
   "execution_count": null,
   "metadata": {},
   "outputs": [],
   "source": [
    "direct_sum(particles)"
   ]
  },
  {
   "cell_type": "code",
   "execution_count": null,
   "metadata": {},
   "outputs": [],
   "source": [
    "orig_time = %timeit -o direct_sum(particles)"
   ]
  },
  {
   "cell_type": "code",
   "execution_count": null,
   "metadata": {},
   "outputs": [],
   "source": [
    "%load_ext line_profiler"
   ]
  },
  {
   "cell_type": "code",
   "execution_count": null,
   "metadata": {},
   "outputs": [],
   "source": [
    "%lprun -f direct_sum direct_sum(particles)"
   ]
  },
  {
   "cell_type": "markdown",
   "metadata": {},
   "source": [
    "## How do we use Numba on this problem?\n",
    "Problem: Numba doesn't support jitting native Python classes.  There is a `jit_class` structure in Numba but it's still in early development.\n",
    "\n",
    "But it's nice to have attributes for literate programming.\n",
    "\n",
    "Solution: NumPy custom dtypes."
   ]
  },
  {
   "cell_type": "code",
   "execution_count": null,
   "metadata": {},
   "outputs": [],
   "source": [
    "particle_dtype = numpy.dtype({'names':['x','y','z','m','phi'], \n",
    "                             'formats':[numpy.double, \n",
    "                                        numpy.double, \n",
    "                                        numpy.double, \n",
    "                                        numpy.double, \n",
    "                                        numpy.double]})"
   ]
  },
  {
   "cell_type": "code",
   "execution_count": null,
   "metadata": {},
   "outputs": [],
   "source": [
    "myarray = numpy.ones(3, dtype=particle_dtype)"
   ]
  },
  {
   "cell_type": "code",
   "execution_count": null,
   "metadata": {},
   "outputs": [],
   "source": [
    "myarray"
   ]
  },
  {
   "cell_type": "code",
   "execution_count": null,
   "metadata": {},
   "outputs": [],
   "source": [
    "myarray[0]['x'] = 2.0"
   ]
  },
  {
   "cell_type": "code",
   "execution_count": null,
   "metadata": {},
   "outputs": [],
   "source": [
    "myarray"
   ]
  },
  {
   "cell_type": "markdown",
   "metadata": {},
   "source": [
    "### Exercise 1\n",
    "\n",
    "Write a function `create_n_random_particles` that takes the arguments `n` (number of particles), `m` (mass of every particle) and a domain within to generate a random number (as in the class above).\n",
    "It should create an array with `n` elements and `dtype=particle_dtype` and then return that array.\n",
    "\n",
    "For each particle, the mass should be initialized to the value of `m` and the potential `phi` initialized to zero.\n",
    "\n",
    "For the `x` component of a given particle `p`, you might do something like\n",
    "\n",
    "```python\n",
    "p['x'] = domain * numpy.random.random()\n",
    "```"
   ]
  },
  {
   "cell_type": "code",
   "execution_count": null,
   "metadata": {},
   "outputs": [],
   "source": [
    "@njit\n",
    "def create_n_random_particles(n, m, domain=1):\n",
    "    '''\n",
    "    Creates `n` particles with mass `m` with random coordinates\n",
    "    between 0 and `domain`\n",
    "    '''\n",
    "    parts = numpy.zeros((n), dtype=particle_dtype)\n",
    "\n",
    "\n",
    "    ### your code\n",
    "    ### your code\n",
    "    ### your code\n",
    "    \n",
    "    return parts   #parts is an array of particles"
   ]
  },
  {
   "cell_type": "code",
   "execution_count": null,
   "metadata": {},
   "outputs": [],
   "source": [
    "# test it\n",
    "parts = create_n_random_particles(1000, .001, 1)"
   ]
  },
  {
   "cell_type": "markdown",
   "metadata": {},
   "source": [
    "### Exercise 2\n",
    "\n",
    "Write a JITted function `distance` to calculate the distance between two particles of dtype `particle_dtype`\n",
    "\n",
    "Here's the `distance` method from the `Particle` class as a reference:\n",
    "\n",
    "```python\n",
    "def distance(self, other):\n",
    "        return ((self.x - other.x)**2 + \n",
    "                (self.y - other.y)**2 + \n",
    "                (self.z - other.z)**2)**.5\n",
    "```"
   ]
  },
  {
   "cell_type": "code",
   "execution_count": null,
   "metadata": {},
   "outputs": [],
   "source": [
    "def distance(part1, part2):\n",
    "    '''calculate the distance between two particles'''\n",
    "    \n",
    "    # your code here"
   ]
  },
  {
   "cell_type": "code",
   "execution_count": null,
   "metadata": {},
   "outputs": [],
   "source": [
    "# test it\n",
    "\n",
    "distance(parts[0], parts[1])"
   ]
  },
  {
   "cell_type": "markdown",
   "metadata": {},
   "source": [
    "### Exercise 3\n",
    "Modify the original `direct_sum` function (copied below for reference) to instead work a NumPy array of particles.  Loop over each element in the array and calculate its total potential.\n",
    "\n",
    "```python\n",
    "def direct_sum(particles):\n",
    "    \"\"\"\n",
    "    Calculate the potential at each particle\n",
    "    using direct summation method.\n",
    "\n",
    "    Arguments:\n",
    "        particles: the list of particles\n",
    "\n",
    "    \"\"\"\n",
    "    for i, target in enumerate(particles):\n",
    "        for source in (particles[:i] + particles[i+1:]):\n",
    "            r = target.distance(source)\n",
    "            target.phi += source.m / r"
   ]
  },
  {
   "cell_type": "code",
   "execution_count": null,
   "metadata": {},
   "outputs": [],
   "source": [
    "def direct_sum(particles):\n",
    "    # take it away"
   ]
  },
  {
   "cell_type": "code",
   "execution_count": null,
   "metadata": {},
   "outputs": [],
   "source": []
  },
  {
   "cell_type": "code",
   "execution_count": null,
   "metadata": {},
   "outputs": [],
   "source": []
  }
 ],
 "metadata": {
  "celltoolbar": "Slideshow",
  "kernelspec": {
   "display_name": "Python 3",
   "language": "python",
   "name": "python3"
  },
  "language_info": {
   "codemirror_mode": {
    "name": "ipython",
    "version": 3
   },
   "file_extension": ".py",
   "mimetype": "text/x-python",
   "name": "python",
   "nbconvert_exporter": "python",
   "pygments_lexer": "ipython3",
   "version": "3.7.4"
  }
 },
 "nbformat": 4,
 "nbformat_minor": 2
}
