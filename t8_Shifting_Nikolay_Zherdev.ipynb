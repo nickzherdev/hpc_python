{
  "nbformat": 4,
  "nbformat_minor": 0,
  "metadata": {
    "colab": {
      "name": "t8_Shifting_Nikolay_Zherdev.ipynb",
      "provenance": [],
      "collapsed_sections": [],
      "toc_visible": true,
      "include_colab_link": true
    },
    "kernelspec": {
      "name": "python3",
      "display_name": "Python 3"
    }
  },
  "cells": [
    {
      "cell_type": "markdown",
      "metadata": {
        "id": "view-in-github",
        "colab_type": "text"
      },
      "source": [
        "<a href=\"https://colab.research.google.com/github/nickzherdev/hpc_python/blob/master/t8_Shifting_Nikolay_Zherdev.ipynb\" target=\"_parent\"><img src=\"https://colab.research.google.com/assets/colab-badge.svg\" alt=\"Open In Colab\"/></a>"
      ]
    },
    {
      "cell_type": "markdown",
      "metadata": {
        "id": "ITT-cxmyu33x",
        "colab_type": "text"
      },
      "source": [
        "# <small> <i>Task 8.</small> </i> Columnwise shifted pictures \n",
        "\n",
        "* Divide a picture into roughly equal blocks of columns. Each process takes its own block. The number of columns $N$ is not equal to the number of processes $n_p$, i.e., $N \\ne n_p$ in general.\n",
        "* Create $N$ new pictures by cyclically shifting the columns of pixels. E.g., for $N = 3 $: $[c_0, c_1, c_2] \\rightarrow [c_2, c_0, c_1] \\rightarrow [c_1, c_2, c_0]$"
      ]
    },
    {
      "cell_type": "code",
      "metadata": {
        "id": "bJQY1U-PvqHQ",
        "colab_type": "code",
        "colab": {}
      },
      "source": [
        "import random\n",
        "import matplotlib.pyplot as plt\n",
        "import seaborn as sns\n",
        "import numpy as np\n",
        "sns.set()"
      ],
      "execution_count": 0,
      "outputs": []
    },
    {
      "cell_type": "code",
      "metadata": {
        "id": "kx9DLDMuug1J",
        "colab_type": "code",
        "colab": {}
      },
      "source": [
        "# def plot_img(X, Y):\n",
        "#     plt.figure(figsize=(16,8))\n",
        "#     plt.scatter(X, Y, s=0.05, c='red')\n",
        "#     plt.savefig(\"img.png\")\n",
        "#     plt.show()\n",
        "\n",
        "# plot_img(x, y)\n",
        "\n",
        "# from IPython.display import Image\n",
        "# Image(\"img.png\", width=800, height=800)"
      ],
      "execution_count": 0,
      "outputs": []
    },
    {
      "cell_type": "code",
      "metadata": {
        "id": "9FdGZ10f4HLJ",
        "colab_type": "code",
        "colab": {
          "base_uri": "https://localhost:8080/",
          "height": 290
        },
        "outputId": "49270cf9-0439-4f3b-adf2-ced74f083987"
      },
      "source": [
        "def rgb2gray(rgb):\n",
        "    return np.dot(rgb[...,:3], [0.299, 0.587, 0.144])\n",
        "\n",
        "img = plt.imread(\"https://upload.wikimedia.org/wikipedia/en/e/ef/Mandelbrot_black_itr20.png\")\n",
        "gray = rgb2gray(img)\n",
        "print(gray.shape)\n",
        "plt.imshow(gray, cmap = plt.get_cmap('gray'))\n",
        "\n",
        "plt.grid(False)\n",
        "plt.savefig('greyscale.png')\n",
        "plt.show()\n",
        "\n"
      ],
      "execution_count": 15,
      "outputs": [
        {
          "output_type": "stream",
          "text": [
            "(768, 1024)\n"
          ],
          "name": "stdout"
        },
        {
          "output_type": "display_data",
          "data": {
            "image/png": "[encoded data removed]",
            "text/plain": [
              "<Figure size 432x288 with 1 Axes>"
            ]
          },
          "metadata": {
            "tags": []
          }
        }
      ]
    },
    {
      "cell_type": "markdown",
      "metadata": {
        "id": "go7m7kK-p2XG",
        "colab_type": "text"
      },
      "source": [
        "* Create $N$ new pictures by cyclically shifting the columns of pixels. E.g., for $N = 3 $: $[c_0, c_1, c_2] \\rightarrow [c_2, c_0, c_1] \\rightarrow [c_1, c_2, c_0]$"
      ]
    },
    {
      "cell_type": "code",
      "metadata": {
        "id": "U8emtpGiqIrz",
        "colab_type": "code",
        "colab": {
          "base_uri": "https://localhost:8080/",
          "height": 105
        },
        "outputId": "22dd61ab-6c55-4239-f5e0-b64fd6433141"
      },
      "source": [
        "c0 = np.ones((5, 2))\n",
        "c1 = np.ones((5, 2)) * 2\n",
        "c01 = np.hstack((c0, c1))\n",
        "\n",
        "np.roll(c01, 4, axis=1)"
      ],
      "execution_count": 13,
      "outputs": [
        {
          "output_type": "execute_result",
          "data": {
            "text/plain": [
              "array([[1., 1., 2., 2.],\n",
              "       [1., 1., 2., 2.],\n",
              "       [1., 1., 2., 2.],\n",
              "       [1., 1., 2., 2.],\n",
              "       [1., 1., 2., 2.]])"
            ]
          },
          "metadata": {
            "tags": []
          },
          "execution_count": 13
        }
      ]
    },
    {
      "cell_type": "code",
      "metadata": {
        "id": "JhqaoC1sKF21",
        "colab_type": "code",
        "colab": {
          "base_uri": "https://localhost:8080/",
          "height": 272
        },
        "outputId": "22590d5a-2a67-46f3-a4dd-3203ce3e48c4"
      },
      "source": [
        "width = gray.shape[1]\n",
        "middle = int(width/2)\n",
        "block1 = gray[:, 0:middle]\n",
        "block2 = gray[:, middle:]\n",
        "\n",
        "plt.imshow(block2, cmap = plt.get_cmap('gray'))\n",
        "plt.show()"
      ],
      "execution_count": 23,
      "outputs": [
        {
          "output_type": "display_data",
          "data": {
            "image/png": "[encoded data removed]",
            "text/plain": [
              "<Figure size 432x288 with 1 Axes>"
            ]
          },
          "metadata": {
            "tags": []
          }
        }
      ]
    },
    {
      "cell_type": "code",
      "metadata": {
        "id": "IMdZRdRYO887",
        "colab_type": "code",
        "colab": {
          "base_uri": "https://localhost:8080/",
          "height": 141
        },
        "outputId": "a4604d0f-71b3-4b12-caea-c9602f7bfc18"
      },
      "source": [
        "ghost = np.zeros(gray.shape[0])[:, np.newaxis]\n",
        "# block2\n",
        "ghost.shape\n",
        "goasted_b1 = np.hstack((ghost, block1))\n",
        "goasted_b2 = np.hstack((ghost, block2))\n",
        "goasted_b2"
      ],
      "execution_count": 38,
      "outputs": [
        {
          "output_type": "execute_result",
          "data": {
            "text/plain": [
              "array([[0.  , 1.03, 1.03, ..., 1.03, 1.03, 1.03],\n",
              "       [0.  , 1.03, 1.03, ..., 1.03, 1.03, 1.03],\n",
              "       [0.  , 1.03, 1.03, ..., 1.03, 1.03, 1.03],\n",
              "       ...,\n",
              "       [0.  , 1.03, 1.03, ..., 1.03, 1.03, 1.03],\n",
              "       [0.  , 1.03, 1.03, ..., 1.03, 1.03, 1.03],\n",
              "       [0.  , 1.03, 1.03, ..., 1.03, 1.03, 1.03]])"
            ]
          },
          "metadata": {
            "tags": []
          },
          "execution_count": 38
        }
      ]
    },
    {
      "cell_type": "code",
      "metadata": {
        "id": "P9iBB7L8SJeR",
        "colab_type": "code",
        "colab": {
          "base_uri": "https://localhost:8080/",
          "height": 35
        },
        "outputId": "9ee63527-67c9-4c4e-e29b-d11a7a97b365"
      },
      "source": [
        "# for column in range()\n",
        "a = np.arange(5)\n",
        "print(a[::-1])"
      ],
      "execution_count": 50,
      "outputs": [
        {
          "output_type": "stream",
          "text": [
            "[4 3 2 1 0]\n"
          ],
          "name": "stdout"
        }
      ]
    },
    {
      "cell_type": "code",
      "metadata": {
        "id": "O9pk2NTnRaEj",
        "colab_type": "code",
        "colab": {}
      },
      "source": [
        "import numpy as np"
      ],
      "execution_count": 0,
      "outputs": []
    },
    {
      "cell_type": "code",
      "metadata": {
        "id": "hWdrxveiR96f",
        "colab_type": "code",
        "colab": {
          "base_uri": "https://localhost:8080/",
          "height": 88
        },
        "outputId": "51f55597-acbf-4882-cc10-14dd660606a9"
      },
      "source": [
        "a = range(5)\n",
        "for i in range(5, 1, -1):\n",
        "    print(i)"
      ],
      "execution_count": 47,
      "outputs": [
        {
          "output_type": "stream",
          "text": [
            "5\n",
            "4\n",
            "3\n",
            "2\n"
          ],
          "name": "stdout"
        }
      ]
    },
    {
      "cell_type": "code",
      "metadata": {
        "id": "j7ZNxuNp4U5I",
        "colab_type": "code",
        "colab": {}
      },
      "source": [
        "\n",
        "\n",
        "from mpi4py import MPI\n",
        "\n",
        "comm = MPI.COMM_WORLD\n",
        "rank = comm.Get_rank()\n",
        "size = comm.Get_size()\n",
        "\n",
        "blocks = np.linspace(r_start, r_end, grid_size)\n",
        "\n",
        "my_grid_size = int(grid_size / size)\n",
        "my_r_start_ind = int(rank * my_grid_size)\n",
        "my_r_end_ind = int((rank+1) * my_grid_size-1)\n",
        "\n",
        "my_r_start = vals_of_r[my_r_start_ind]\n",
        "my_r_end = vals_of_r[my_r_end_ind]\n",
        "\n",
        "my_start = \n",
        "my_end = \n"
      ],
      "execution_count": 0,
      "outputs": []
    },
    {
      "cell_type": "code",
      "metadata": {
        "id": "Mnqv6x_cvlKV",
        "colab_type": "code",
        "colab": {}
      },
      "source": [
        "# height = 50\n",
        "# columns = 3\n",
        "# ratio = int(height / columns)\n",
        "# white = np.ones((height, height), dtype=np.float)\n",
        "# for i in range(1, columns):\n",
        "#     white[:, i:i*ratio] /= 2\n",
        "\n",
        "# # plt.imshow(white, cmap='gray', vmin=0, vmax=1)\n",
        "# plt.imshow(white, cmap=\"Blues\")\n",
        "# plt.grid(False)"
      ],
      "execution_count": 0,
      "outputs": []
    },
    {
      "cell_type": "code",
      "metadata": {
        "id": "FGvfjCRj2LTF",
        "colab_type": "code",
        "colab": {}
      },
      "source": [
        ""
      ],
      "execution_count": 0,
      "outputs": []
    },
    {
      "cell_type": "markdown",
      "metadata": {
        "id": "QcCPmriku8_Y",
        "colab_type": "text"
      },
      "source": [
        "### T8.1 \tWe can arbitrarily choose the number of MPI processes that we want to launch and it does not depend on the width of the picture (in pixels)."
      ]
    },
    {
      "cell_type": "code",
      "metadata": {
        "id": "Da-8qNbYvFsH",
        "colab_type": "code",
        "colab": {}
      },
      "source": [
        ""
      ],
      "execution_count": 0,
      "outputs": []
    },
    {
      "cell_type": "markdown",
      "metadata": {
        "id": "mRtN_51fvGM-",
        "colab_type": "text"
      },
      "source": [
        "### T8.2 \tSpeedup versus number of processors graph is plotted."
      ]
    },
    {
      "cell_type": "code",
      "metadata": {
        "id": "UyJ5F2CbvIu_",
        "colab_type": "code",
        "colab": {}
      },
      "source": [
        ""
      ],
      "execution_count": 0,
      "outputs": []
    },
    {
      "cell_type": "markdown",
      "metadata": {
        "id": "i3f99ooRvJ10",
        "colab_type": "text"
      },
      "source": [
        "### T8.3 Total memory consumption versus number of processors is plotted."
      ]
    },
    {
      "cell_type": "code",
      "metadata": {
        "id": "88mE6fPIvLqw",
        "colab_type": "code",
        "colab": {}
      },
      "source": [
        ""
      ],
      "execution_count": 0,
      "outputs": []
    },
    {
      "cell_type": "code",
      "metadata": {
        "id": "LPhwrf3nvPKP",
        "colab_type": "code",
        "colab": {}
      },
      "source": [
        ""
      ],
      "execution_count": 0,
      "outputs": []
    }
  ]
}